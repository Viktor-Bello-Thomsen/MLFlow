{
  "nbformat": 4,
  "nbformat_minor": 0,
  "metadata": {
    "colab": {
      "name": "LSDA.ipynb",
      "provenance": [],
      "collapsed_sections": [],
      "authorship_tag": "ABX9TyNieiQ69pfIYd+2qnsFnFxi",
      "include_colab_link": true
    },
    "kernelspec": {
      "name": "python3",
      "display_name": "Python 3"
    }
  },
  "cells": [
    {
      "cell_type": "markdown",
      "metadata": {
        "id": "view-in-github",
        "colab_type": "text"
      },
      "source": [
        "<a href=\"https://colab.research.google.com/github/Viktor-Bello-Thomsen/MLFlow/blob/main/LSDA.ipynb\" target=\"_parent\"><img src=\"https://colab.research.google.com/assets/colab-badge.svg\" alt=\"Open In Colab\"/></a>"
      ]
    },
    {
      "cell_type": "code",
      "metadata": {
        "colab": {
          "base_uri": "https://localhost:8080/"
        },
        "id": "gWg1i7pNb-_F",
        "outputId": "5683ad8a-9cc3-4f38-ce58-8bc75e2d09c4"
      },
      "source": [
        "!pip install influxdb"
      ],
      "execution_count": null,
      "outputs": [
        {
          "output_type": "stream",
          "text": [
            "Collecting influxdb\n",
            "\u001b[?25l  Downloading https://files.pythonhosted.org/packages/01/95/3a72ea5e19df828d27af0a50092f2b24114a5f89922efb4d8a0960bf13ef/influxdb-5.3.1-py2.py3-none-any.whl (77kB)\n",
            "\r\u001b[K     |████▏                           | 10kB 15.5MB/s eta 0:00:01\r\u001b[K     |████████▍                       | 20kB 16.1MB/s eta 0:00:01\r\u001b[K     |████████████▋                   | 30kB 8.5MB/s eta 0:00:01\r\u001b[K     |████████████████▉               | 40kB 8.6MB/s eta 0:00:01\r\u001b[K     |█████████████████████           | 51kB 3.9MB/s eta 0:00:01\r\u001b[K     |█████████████████████████▎      | 61kB 4.5MB/s eta 0:00:01\r\u001b[K     |█████████████████████████████▍  | 71kB 5.1MB/s eta 0:00:01\r\u001b[K     |████████████████████████████████| 81kB 3.4MB/s \n",
            "\u001b[?25hRequirement already satisfied: requests>=2.17.0 in /usr/local/lib/python3.7/dist-packages (from influxdb) (2.23.0)\n",
            "Requirement already satisfied: six>=1.10.0 in /usr/local/lib/python3.7/dist-packages (from influxdb) (1.15.0)\n",
            "Requirement already satisfied: msgpack in /usr/local/lib/python3.7/dist-packages (from influxdb) (1.0.2)\n",
            "Requirement already satisfied: pytz in /usr/local/lib/python3.7/dist-packages (from influxdb) (2018.9)\n",
            "Requirement already satisfied: python-dateutil>=2.6.0 in /usr/local/lib/python3.7/dist-packages (from influxdb) (2.8.1)\n",
            "Requirement already satisfied: urllib3!=1.25.0,!=1.25.1,<1.26,>=1.21.1 in /usr/local/lib/python3.7/dist-packages (from requests>=2.17.0->influxdb) (1.24.3)\n",
            "Requirement already satisfied: idna<3,>=2.5 in /usr/local/lib/python3.7/dist-packages (from requests>=2.17.0->influxdb) (2.10)\n",
            "Requirement already satisfied: certifi>=2017.4.17 in /usr/local/lib/python3.7/dist-packages (from requests>=2.17.0->influxdb) (2020.12.5)\n",
            "Requirement already satisfied: chardet<4,>=3.0.2 in /usr/local/lib/python3.7/dist-packages (from requests>=2.17.0->influxdb) (3.0.4)\n",
            "Installing collected packages: influxdb\n",
            "Successfully installed influxdb-5.3.1\n"
          ],
          "name": "stdout"
        }
      ]
    },
    {
      "cell_type": "code",
      "metadata": {
        "colab": {
          "base_uri": "https://localhost:8080/"
        },
        "id": "RULMs2GnS4Ve",
        "outputId": "e8fc5b04-d769-4599-a44c-323789e41979"
      },
      "source": [
        "from google.colab import drive\n",
        "\n",
        "drive.mount(\"/content/gdrive\")"
      ],
      "execution_count": null,
      "outputs": [
        {
          "output_type": "stream",
          "text": [
            "Mounted at /content/gdrive\n"
          ],
          "name": "stdout"
        }
      ]
    },
    {
      "cell_type": "code",
      "metadata": {
        "id": "hUZagZYCbhO1"
      },
      "source": [
        "####################################################\n",
        "## Getting the data\n",
        "\n",
        "from influxdb import InfluxDBClient # install via \"pip install influxdb\"\n",
        "import pandas as pd\n",
        "\n",
        "client = InfluxDBClient(host='influxus.itu.dk', port=8086, username='lsda', password='icanonlyread')\n",
        "client.switch_database('orkney')\n",
        "\n",
        "def get_df(results):\n",
        "    values = results.raw[\"series\"][0][\"values\"]\n",
        "    columns = results.raw[\"series\"][0][\"columns\"]\n",
        "    df = pd.DataFrame(values, columns=columns).set_index(\"time\")\n",
        "    df.index = pd.to_datetime(df.index) # Convert to datetime-index\n",
        "    return df\n",
        "\n",
        "# Get the last 90 days of power generation data\n",
        "generation = client.query(\n",
        "    \"SELECT * FROM Generation where time > now()-180d\"\n",
        "    ) # Query written in InfluxQL\n",
        "\n",
        "# Get the last 90 days of weather forecasts with the shortest lead time\n",
        "wind  = client.query(\n",
        "    \"SELECT * FROM MetForecasts where time > now()-180d and time <= now() and Lead_hours = '1'\"\n",
        "    ) # Query written in InfluxQL\n",
        "\n",
        "\n",
        "gen_df = get_df(generation)\n",
        "wind_df = get_df(wind)\n"
      ],
      "execution_count": null,
      "outputs": []
    },
    {
      "cell_type": "code",
      "metadata": {
        "id": "_Wc1yl7LgMVf"
      },
      "source": [
        "#merge tables\n",
        "\n",
        "from scipy import stats\n",
        "import numpy as np\n",
        "gen_df.dropna(inplace=True)\n",
        "gen_df[\"Total\"] = gen_df.rolling(60).mean()\n",
        "normGen_df = gen_df.groupby(pd.Grouper(freq = \"1H\")).mean()\n",
        "wind_df.dropna(inplace=True)\n",
        "merged_df = wind_df.join(normGen_df)\n",
        "merged_df.dropna(inplace=True)\n",
        "merged_df = merged_df[merged_df[\"Total\"] > 0]\n",
        "\n"
      ],
      "execution_count": null,
      "outputs": []
    },
    {
      "cell_type": "code",
      "metadata": {
        "colab": {
          "base_uri": "https://localhost:8080/",
          "height": 358
        },
        "id": "TXot4gXL8fjm",
        "outputId": "15a07bb6-4241-422e-9f26-7216e622884f"
      },
      "source": [
        "import seaborn as sns\n",
        "sns.scatterplot(merged_df[\"Speed\"], merged_df[\"Total\"], hue = merged_df[\"Direction\"], legend=False).set(xlabel='Wind Speed', ylabel='Total power generation')"
      ],
      "execution_count": null,
      "outputs": [
        {
          "output_type": "stream",
          "text": [
            "/usr/local/lib/python3.7/dist-packages/seaborn/_decorators.py:43: FutureWarning: Pass the following variables as keyword args: x, y. From version 0.12, the only valid positional argument will be `data`, and passing other arguments without an explicit keyword will result in an error or misinterpretation.\n",
            "  FutureWarning\n"
          ],
          "name": "stderr"
        },
        {
          "output_type": "execute_result",
          "data": {
            "text/plain": [
              "[Text(0, 0.5, 'Total power generation'), Text(0.5, 0, 'Wind Speed')]"
            ]
          },
          "metadata": {
            "tags": []
          },
          "execution_count": 85
        },
        {
          "output_type": "display_data",
          "data": {
            "image/png": "[encoded data removed]",
            "text/plain": [
              "<Figure size 432x288 with 1 Axes>"
            ]
          },
          "metadata": {
            "tags": [],
            "needs_background": "light"
          }
        }
      ]
    },
    {
      "cell_type": "code",
      "metadata": {
        "id": "XhrgS0BOcI5t",
        "colab": {
          "base_uri": "https://localhost:8080/",
          "height": 582
        },
        "outputId": "82e152fa-4466-40d2-de0a-357e60cc51ee"
      },
      "source": [
        "idea = merged_df.groupby(\"Direction\").mean()\n",
        "idea[\"efficiency\"] = idea[\"Total\"]/idea[\"Speed\"]\n",
        "idea"
      ],
      "execution_count": null,
      "outputs": [
        {
          "output_type": "execute_result",
          "data": {
            "text/html": [
              "<div>\n",
              "<style scoped>\n",
              "    .dataframe tbody tr th:only-of-type {\n",
              "        vertical-align: middle;\n",
              "    }\n",
              "\n",
              "    .dataframe tbody tr th {\n",
              "        vertical-align: top;\n",
              "    }\n",
              "\n",
              "    .dataframe thead th {\n",
              "        text-align: right;\n",
              "    }\n",
              "</style>\n",
              "<table border=\"1\" class=\"dataframe\">\n",
              "  <thead>\n",
              "    <tr style=\"text-align: right;\">\n",
              "      <th></th>\n",
              "      <th>Source_time</th>\n",
              "      <th>Speed</th>\n",
              "      <th>ANM</th>\n",
              "      <th>Non-ANM</th>\n",
              "      <th>Total</th>\n",
              "      <th>efficiency</th>\n",
              "    </tr>\n",
              "    <tr>\n",
              "      <th>Direction</th>\n",
              "      <th></th>\n",
              "      <th></th>\n",
              "      <th></th>\n",
              "      <th></th>\n",
              "      <th></th>\n",
              "      <th></th>\n",
              "    </tr>\n",
              "  </thead>\n",
              "  <tbody>\n",
              "    <tr>\n",
              "      <th>E</th>\n",
              "      <td>1.608288e+09</td>\n",
              "      <td>8.270240</td>\n",
              "      <td>6.601075</td>\n",
              "      <td>12.483698</td>\n",
              "      <td>6.491496</td>\n",
              "      <td>0.784922</td>\n",
              "    </tr>\n",
              "    <tr>\n",
              "      <th>ENE</th>\n",
              "      <td>1.607503e+09</td>\n",
              "      <td>7.489881</td>\n",
              "      <td>4.831500</td>\n",
              "      <td>10.681218</td>\n",
              "      <td>4.733763</td>\n",
              "      <td>0.632021</td>\n",
              "    </tr>\n",
              "    <tr>\n",
              "      <th>ESE</th>\n",
              "      <td>1.608480e+09</td>\n",
              "      <td>8.593102</td>\n",
              "      <td>7.101367</td>\n",
              "      <td>13.274313</td>\n",
              "      <td>7.141208</td>\n",
              "      <td>0.831040</td>\n",
              "    </tr>\n",
              "    <tr>\n",
              "      <th>N</th>\n",
              "      <td>1.608481e+09</td>\n",
              "      <td>8.394418</td>\n",
              "      <td>5.545290</td>\n",
              "      <td>11.484513</td>\n",
              "      <td>5.660478</td>\n",
              "      <td>0.674315</td>\n",
              "    </tr>\n",
              "    <tr>\n",
              "      <th>NE</th>\n",
              "      <td>1.606365e+09</td>\n",
              "      <td>9.131537</td>\n",
              "      <td>6.830474</td>\n",
              "      <td>10.895605</td>\n",
              "      <td>6.934607</td>\n",
              "      <td>0.759413</td>\n",
              "    </tr>\n",
              "    <tr>\n",
              "      <th>NNE</th>\n",
              "      <td>1.606986e+09</td>\n",
              "      <td>9.471660</td>\n",
              "      <td>5.650848</td>\n",
              "      <td>10.651959</td>\n",
              "      <td>5.565632</td>\n",
              "      <td>0.587609</td>\n",
              "    </tr>\n",
              "    <tr>\n",
              "      <th>NNW</th>\n",
              "      <td>1.608248e+09</td>\n",
              "      <td>9.152238</td>\n",
              "      <td>6.512635</td>\n",
              "      <td>11.492254</td>\n",
              "      <td>6.579830</td>\n",
              "      <td>0.718931</td>\n",
              "    </tr>\n",
              "    <tr>\n",
              "      <th>NW</th>\n",
              "      <td>1.606294e+09</td>\n",
              "      <td>7.953587</td>\n",
              "      <td>5.761278</td>\n",
              "      <td>10.318943</td>\n",
              "      <td>5.739010</td>\n",
              "      <td>0.721563</td>\n",
              "    </tr>\n",
              "    <tr>\n",
              "      <th>S</th>\n",
              "      <td>1.608901e+09</td>\n",
              "      <td>8.954555</td>\n",
              "      <td>7.712398</td>\n",
              "      <td>14.741021</td>\n",
              "      <td>7.786056</td>\n",
              "      <td>0.869508</td>\n",
              "    </tr>\n",
              "    <tr>\n",
              "      <th>SE</th>\n",
              "      <td>1.607214e+09</td>\n",
              "      <td>9.797627</td>\n",
              "      <td>9.059927</td>\n",
              "      <td>13.368179</td>\n",
              "      <td>8.994888</td>\n",
              "      <td>0.918068</td>\n",
              "    </tr>\n",
              "    <tr>\n",
              "      <th>SSE</th>\n",
              "      <td>1.609071e+09</td>\n",
              "      <td>12.305848</td>\n",
              "      <td>10.182503</td>\n",
              "      <td>15.996163</td>\n",
              "      <td>10.135645</td>\n",
              "      <td>0.823645</td>\n",
              "    </tr>\n",
              "    <tr>\n",
              "      <th>SSW</th>\n",
              "      <td>1.607615e+09</td>\n",
              "      <td>7.907983</td>\n",
              "      <td>6.056400</td>\n",
              "      <td>11.840367</td>\n",
              "      <td>6.094222</td>\n",
              "      <td>0.770642</td>\n",
              "    </tr>\n",
              "    <tr>\n",
              "      <th>SW</th>\n",
              "      <td>1.607447e+09</td>\n",
              "      <td>9.756908</td>\n",
              "      <td>6.307127</td>\n",
              "      <td>11.897973</td>\n",
              "      <td>6.430900</td>\n",
              "      <td>0.659112</td>\n",
              "    </tr>\n",
              "    <tr>\n",
              "      <th>W</th>\n",
              "      <td>1.607837e+09</td>\n",
              "      <td>11.011301</td>\n",
              "      <td>7.468122</td>\n",
              "      <td>15.482385</td>\n",
              "      <td>7.411903</td>\n",
              "      <td>0.673118</td>\n",
              "    </tr>\n",
              "    <tr>\n",
              "      <th>WNW</th>\n",
              "      <td>1.607907e+09</td>\n",
              "      <td>8.025432</td>\n",
              "      <td>5.218094</td>\n",
              "      <td>10.594960</td>\n",
              "      <td>5.254157</td>\n",
              "      <td>0.654688</td>\n",
              "    </tr>\n",
              "    <tr>\n",
              "      <th>WSW</th>\n",
              "      <td>1.608253e+09</td>\n",
              "      <td>11.370365</td>\n",
              "      <td>8.343438</td>\n",
              "      <td>14.735765</td>\n",
              "      <td>8.400370</td>\n",
              "      <td>0.738795</td>\n",
              "    </tr>\n",
              "  </tbody>\n",
              "</table>\n",
              "</div>"
            ],
            "text/plain": [
              "            Source_time      Speed        ANM    Non-ANM      Total  efficiency\n",
              "Direction                                                                      \n",
              "E          1.608288e+09   8.270240   6.601075  12.483698   6.491496    0.784922\n",
              "ENE        1.607503e+09   7.489881   4.831500  10.681218   4.733763    0.632021\n",
              "ESE        1.608480e+09   8.593102   7.101367  13.274313   7.141208    0.831040\n",
              "N          1.608481e+09   8.394418   5.545290  11.484513   5.660478    0.674315\n",
              "NE         1.606365e+09   9.131537   6.830474  10.895605   6.934607    0.759413\n",
              "NNE        1.606986e+09   9.471660   5.650848  10.651959   5.565632    0.587609\n",
              "NNW        1.608248e+09   9.152238   6.512635  11.492254   6.579830    0.718931\n",
              "NW         1.606294e+09   7.953587   5.761278  10.318943   5.739010    0.721563\n",
              "S          1.608901e+09   8.954555   7.712398  14.741021   7.786056    0.869508\n",
              "SE         1.607214e+09   9.797627   9.059927  13.368179   8.994888    0.918068\n",
              "SSE        1.609071e+09  12.305848  10.182503  15.996163  10.135645    0.823645\n",
              "SSW        1.607615e+09   7.907983   6.056400  11.840367   6.094222    0.770642\n",
              "SW         1.607447e+09   9.756908   6.307127  11.897973   6.430900    0.659112\n",
              "W          1.607837e+09  11.011301   7.468122  15.482385   7.411903    0.673118\n",
              "WNW        1.607907e+09   8.025432   5.218094  10.594960   5.254157    0.654688\n",
              "WSW        1.608253e+09  11.370365   8.343438  14.735765   8.400370    0.738795"
            ]
          },
          "metadata": {
            "tags": []
          },
          "execution_count": 86
        }
      ]
    },
    {
      "cell_type": "code",
      "metadata": {
        "id": "ARVnEorquZXx"
      },
      "source": [
        "import numpy as np\n",
        "winds = [\"N\", \"NNE\", \"NE\", \"ENE\", \"E\", \"ESE\", \"SE\", \"SSE\", \"S\", \"SSW\", \"SW\", \"WSW\", \"W\", \"WNW\", \"NW\", \"NNW\"]\n",
        "\n",
        "dirDict = {dir:degree for dir, degree in zip(winds,np.linspace(0,360,len(winds)+1))}\n",
        "\n",
        "\n",
        "def toRads(direction):\n",
        "  return np.deg2rad(dirDict[direction]) \n",
        "\n",
        "def verticalConverter(direction):\n",
        "  rads = toRads(direction)\n",
        "  return np.cos(rads)\n",
        "  \n",
        "def horizontalConverter(direction):\n",
        "  rads = toRads(direction)\n",
        "  return np.sin(rads)\n",
        "  "
      ],
      "execution_count": null,
      "outputs": []
    },
    {
      "cell_type": "code",
      "metadata": {
        "id": "1A3_iPnhfIoc"
      },
      "source": [
        "from sklearn.base import BaseEstimator, TransformerMixin\n",
        "from sklearn.compose import ColumnTransformer\n",
        "from sklearn.preprocessing import PolynomialFeatures\n",
        "import pickle\n",
        "class CCTransformer(BaseEstimator, TransformerMixin):\n",
        "  def __init__(self):\n",
        "    return None\n",
        "    \n",
        "  def fit(self, X, y = None):\n",
        "    return self\n",
        "\n",
        "  def transform(self, X, y = None):\n",
        "    X_cp = X.copy()\n",
        "    #X_cp[\"Horizontal\"] = X_cp[\"Direction\"].apply(horizontalConverter) \n",
        "    #X_cp[\"Vertical\"] = X_cp[\"Direction\"].apply(verticalConverter)\n",
        "    X_cp = X_cp.drop([\"Direction\", \"Source_time\", \"Lead_hours\"],axis = 1)\n",
        "    return X_cp\n",
        "\n",
        "\n",
        "col_transformer = ColumnTransformer([('poly', PolynomialFeatures(), ['Speed'])\n",
        "                                    ],remainder='passthrough')\n"
      ],
      "execution_count": null,
      "outputs": []
    },
    {
      "cell_type": "code",
      "metadata": {
        "id": "Ogj6M-GFbmbl",
        "colab": {
          "base_uri": "https://localhost:8080/"
        },
        "outputId": "1cb48479-e63e-4209-9b30-10226c99f134"
      },
      "source": [
        "####################################################\n",
        "## Preprocess the data / Compose your pipeline\n",
        "\n",
        "from sklearn.pipeline import Pipeline\n",
        "from sklearn.model_selection import GridSearchCV\n",
        "from sklearn.linear_model import LinearRegression\n",
        "from sklearn.preprocessing import StandardScaler\n",
        "from sklearn.model_selection import train_test_split\n",
        "from sklearn.model_selection import TimeSeriesSplit\n",
        "from sklearn.model_selection import train_test_split\n",
        "from sklearn.ensemble import RandomForestRegressor\n",
        "\n",
        "\n",
        "Y = merged_df[\"Total\"]\n",
        "X = merged_df.drop([\"Total\", \"ANM\", \"Non-ANM\"], axis = 1)\n",
        "\n",
        "\n",
        "X_train, X_test, Y_train, Y_test = train_test_split(X,Y, shuffle = False, test_size = 0.2, random_state = 42)\n",
        "\n",
        "X_train\n",
        "\n",
        "pipeline = Pipeline(steps=[\n",
        "    ('custom_trans', CCTransformer()),\n",
        "    (\"col_trans\", col_transformer),\n",
        "    ('Scaling', StandardScaler()),\n",
        "    ('linear_model', LinearRegression())\n",
        "    ])\n",
        "\n",
        "\n",
        "\n",
        "# Fit the pipeline\n",
        "\n",
        "param_grid = {\n",
        "    \"col_trans__poly__degree\" : [1,2,3,4,5],\n",
        "    \"col_trans__poly__interaction_only\" : [True, False]\n",
        "}\n",
        "\n",
        "gsc = GridSearchCV(pipeline, param_grid = param_grid, scoring='neg_mean_squared_error',\n",
        "            cv=TimeSeriesSplit(n_splits=int(X.shape[0]/((24*6)/3))).split(X_train,Y_train), verbose=4, n_jobs=-1, refit=True, return_train_score=True)\n",
        "\n",
        "gsc.fit(X_train,Y_train)\n",
        "\n",
        "#print(gsc.cv_results_)\n",
        "print(gsc.best_score_)\n",
        "#gsc.best_params_\n",
        "gsc.best_estimator_.score(X_test, Y_test)"
      ],
      "execution_count": null,
      "outputs": [
        {
          "output_type": "stream",
          "text": [
            "Fitting 26 folds for each of 10 candidates, totalling 260 fits\n"
          ],
          "name": "stdout"
        },
        {
          "output_type": "stream",
          "text": [
            "[Parallel(n_jobs=-1)]: Using backend LokyBackend with 2 concurrent workers.\n",
            "[Parallel(n_jobs=-1)]: Done  24 tasks      | elapsed:    1.5s\n"
          ],
          "name": "stderr"
        },
        {
          "output_type": "stream",
          "text": [
            "-8.811726829786027\n"
          ],
          "name": "stdout"
        },
        {
          "output_type": "stream",
          "text": [
            "[Parallel(n_jobs=-1)]: Done 260 out of 260 | elapsed:    4.2s finished\n"
          ],
          "name": "stderr"
        },
        {
          "output_type": "execute_result",
          "data": {
            "text/plain": [
              "0.7210161664248238"
            ]
          },
          "metadata": {
            "tags": []
          },
          "execution_count": 89
        }
      ]
    },
    {
      "cell_type": "markdown",
      "metadata": {
        "id": "7QrCPgiDTzJ1"
      },
      "source": [
        "Compare old model with current model"
      ]
    },
    {
      "cell_type": "code",
      "metadata": {
        "colab": {
          "base_uri": "https://localhost:8080/"
        },
        "id": "KJLHjyEefTGz",
        "outputId": "4690e922-fcf9-4e29-e6bb-133c18af40e2"
      },
      "source": [
        "#Load old model and compare with the new model\n",
        "new_model = gsc.best_estimator_\n",
        "\n",
        "try:\n",
        "  old_model = pickle.load(open(\"gdrive/MyDrive/bestModelLSDA.sav\", 'rb'))\n",
        "  \n",
        "  old_model_acc = old_model.score(X_test, Y_test)\n",
        "  new_model_acc = new_model.score(X_test, Y_test)\n",
        "\n",
        "  print(\"old models score\", old_model_acc)\n",
        "  print(\"new models score\", new_model_acc)\n",
        "  best_model = old_model if old_model_acc > new_model_acc else new_model\n",
        "\n",
        "except:\n",
        "  print(\"No previous model was found in the specified directory\")\n",
        "  best_model = new_model\n",
        "  print(\"new models acc\", new_model_acc)\n",
        "pickle.dump(best_model, open(\"gdrive/MyDrive/bestModelLSDA.sav\", 'wb'))\n"
      ],
      "execution_count": null,
      "outputs": [
        {
          "output_type": "stream",
          "text": [
            "old models acc -4.258295365926984\n",
            "new models acc 0.7266537387001952\n"
          ],
          "name": "stdout"
        }
      ]
    },
    {
      "cell_type": "markdown",
      "metadata": {
        "id": "6-7cs4j7ha4X"
      },
      "source": [
        "Load new Data and create predictions"
      ]
    },
    {
      "cell_type": "code",
      "metadata": {
        "id": "id1hRd7srvtC"
      },
      "source": [
        "\n",
        "# Load stored model and compare with newly trained\n",
        "# and store the best one\n",
        "\n",
        "####################################################\n",
        "## Do forecasting with the best one\n",
        "\n",
        "# Get all future forecasts regardless of lead time\n",
        "forecasts  = client.query(\n",
        "    \"SELECT * FROM MetForecasts where time > now()\"\n",
        "    ) # Query written in InfluxQL\n",
        "for_df = get_df(forecasts)\n",
        "\n",
        "# Limit to only the newest source time\n",
        "newest_source_time = for_df[\"Source_time\"].max()\n",
        "newest_forecasts = for_df.loc[for_df[\"Source_time\"] == newest_source_time].copy()\n",
        "\n",
        "# Preprocess the forecasts and do predictions in one fell swoop\n",
        "# using your best pipeline.\n",
        "newest_forecasts[\"pred\"] = best_model.predict(newest_forecasts)\n",
        "newest_forecasts.drop([\"Lead_hours\", \"Source_time\"], axis = 1)"
      ],
      "execution_count": null,
      "outputs": []
    },
    {
      "cell_type": "code",
      "metadata": {
        "id": "u2pmCKKIuA5I",
        "colab": {
          "base_uri": "https://localhost:8080/",
          "height": 355
        },
        "outputId": "a2c255bd-2e92-48d0-b980-9d7671238ddb"
      },
      "source": [
        "import seaborn as sns\n",
        "\n",
        "sns.scatterplot(newest_forecasts[\"Speed\"], gsc.predict(newest_forecasts), hue =newest_forecasts[\"Direction\"] )\n",
        "\n"
      ],
      "execution_count": null,
      "outputs": [
        {
          "output_type": "stream",
          "text": [
            "/usr/local/lib/python3.7/dist-packages/seaborn/_decorators.py:43: FutureWarning: Pass the following variables as keyword args: x, y. From version 0.12, the only valid positional argument will be `data`, and passing other arguments without an explicit keyword will result in an error or misinterpretation.\n",
            "  FutureWarning\n"
          ],
          "name": "stderr"
        },
        {
          "output_type": "execute_result",
          "data": {
            "text/plain": [
              "<matplotlib.axes._subplots.AxesSubplot at 0x7fa90de517d0>"
            ]
          },
          "metadata": {
            "tags": []
          },
          "execution_count": 462
        },
        {
          "output_type": "display_data",
          "data": {
            "image/png": "[encoded data removed]",
            "text/plain": [
              "<Figure size 432x288 with 1 Axes>"
            ]
          },
          "metadata": {
            "tags": [],
            "needs_background": "light"
          }
        }
      ]
    }
  ]
}